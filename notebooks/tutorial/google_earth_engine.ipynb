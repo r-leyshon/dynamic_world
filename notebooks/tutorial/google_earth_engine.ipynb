{
 "cells": [
  {
   "cell_type": "markdown",
   "metadata": {},
   "source": [
    "# Sign Up to Use Google Earth Engine (GEE)\n",
    "\n",
    "## Developer API\n",
    "\n",
    "[Google Earth Engine sign up form](https://signup.earthengine.google.com/#!/)\n",
    "\n",
    "Use of the service is strictly non-commercial. Please consult the T&Cs:\n",
    "\n",
    "> 1.2 Limitations on Use. Unless otherwise approved by Google in writing, Services may only be used for development, research, or educational purposes; you can use data or figures created by use of Services in research or educational publications authored by you. Services may not be used for sustained commercial purposes unless otherwise approved by Google in writing, but may be evaluated in a production environment. Applications and data created with Services may not be sold or licensed for a fee unless otherwise approved by Google in writing.\n",
    "\n",
    "[source: Google Earth Engine Terms of Use](https://earthengine.google.com/terms/)\n",
    "\n",
    "As I'm logged into my Google profile, the form would only accept my gmail address. I selected affiliated with ONS and purpose was to 'investigate land use classification within my locality and nationally'. \n",
    "\n",
    "Notification to keep an eye on Gmail inbox over the next week for status update.\n",
    "\n",
    "I had the confirmation Email come through within the hour, but I have a vague recollection of going through Earth Engine access before.\n",
    "\n",
    "### Service Account\n",
    "\n",
    "After reading the documentation and trying a couple of approaches, the method that worked for me was to configure my application as a [service account](https://developers.google.com/earth-engine/guides/service_account), which seems to be the method used for hosting of an application that can authenticate with the Earth Engine API for multiple end users. \n",
    "\n",
    "***\n",
    "\n",
    "## Hello World\n",
    "\n",
    "1. Ensure you have run `pip install requirements.txt` from the root of this directory. \n",
    "2. Ensure you have the required dependencies within `./.git_ignore`. Check README for details on secrets."
   ]
  },
  {
   "cell_type": "code",
   "execution_count": null,
   "metadata": {},
   "outputs": [],
   "source": [
    "import os\n",
    "\n",
    "import ee\n",
    "import toml\n",
    "from pyprojroot import here"
   ]
  },
  {
   "cell_type": "code",
   "execution_count": null,
   "metadata": {},
   "outputs": [],
   "source": [
    "service_email = toml.load(os.path.join(here(), \".git_ignore\", \"ee.toml\"))[\"ee\"][\n",
    "    \"SERVICE_EMAIL\"\n",
    "]"
   ]
  },
  {
   "cell_type": "code",
   "execution_count": null,
   "metadata": {},
   "outputs": [],
   "source": [
    "credentials = ee.ServiceAccountCredentials(\n",
    "    service_email,\n",
    "    os.path.join(here(), \".git_ignore\", \"ee-lsoa-land-use-02b30d7b328b.json\"),\n",
    ")\n",
    "ee.Initialize(credentials)"
   ]
  },
  {
   "cell_type": "code",
   "execution_count": null,
   "metadata": {},
   "outputs": [],
   "source": [
    "print(ee.Image(\"NASA/NASADEM_HGT/001\").get(\"title\").getInfo())"
   ]
  },
  {
   "cell_type": "markdown",
   "metadata": {},
   "source": [
    "***\n",
    "\n",
    "## Python client tutorial\n",
    "\n",
    "Ensure the most recent release of earth engine client is being run with:\n",
    "`pip install earthengine-api --upgrade`\n",
    "\n",
    "Link to the [Google Earth Engine API tutorial](https://developers.google.com/earth-engine/tutorials/community/intro-to-python-api)\n",
    "\n",
    "Improve awareness of data available by browsing the [Earth Engine data catalogue](https://developers.google.com/earth-engine/datasets/catalog)\n",
    "\n",
    "### GEE-specific terms\n",
    "\n",
    "The documentation refers to:\n",
    "\n",
    "**Features**: Geometries. Like Spatial features.\n",
    "\n",
    "**Images**: Rasters, tiffs and the like.\n",
    "\n",
    "**Collections**: A resource that combines features & images.\n",
    "\n",
    "**Scale**: Image resolution.\n",
    "\n",
    "### GEE Specification\n",
    "\n",
    "* Coordinates are in longitude latitude order.\n",
    "* Dates are YYYY-MM-DD, eg '2020-01-01'\n",
    "* Start date is inclusive, End date is exclusive.\n",
    "\n",
    "\n",
    "### Tutorial Context\n",
    "\n",
    "Resources used are:\n",
    "* MODIS land cover (LC)\n",
    "* MODIS land surface temp (LST)\n",
    "* USGS ground elevation (ELV)\n",
    "\n",
    "**Warning: The LST documentation linked to by the tutorial has a deprecation notice.**\n",
    "\n",
    "Two are `ee.ImageCollections`. ELV is an image. Things we need from the resource descriptions:\n",
    "1. Availability\n",
    "2. Provider\n",
    "3. GEE snippet\n",
    "4. Available bands\n",
    "\n",
    "So for [LC](https://developers.google.com/earth-engine/datasets/catalog/MODIS_006_MCD12Q1):\n",
    "\n",
    "![](../../www/modis_lc_metadata.png)\n",
    "\n",
    "Copy the snippet for use as an endpoint."
   ]
  },
  {
   "cell_type": "code",
   "execution_count": null,
   "metadata": {},
   "outputs": [],
   "source": [
    "# Import the MODIS land cover collection.\n",
    "lc = ee.ImageCollection(\"MODIS/006/MCD12Q1\")\n",
    "\n",
    "# Import the MODIS land surface temperature collection.\n",
    "lst = ee.ImageCollection(\"MODIS/006/MOD11A1\")\n",
    "\n",
    "# Import the USGS ground elevation image.\n",
    "elv = ee.Image(\"USGS/SRTMGL1_003\")"
   ]
  },
  {
   "cell_type": "markdown",
   "metadata": {},
   "source": [
    "### About These Resources\n",
    "\n",
    "* Resolution, frequency & projection can vary:\n",
    "    * LST = 1km, daily\n",
    "    * ELV = 30m, yearly\n",
    "* GEE will attempt to handle projections & resolution by reprojecting / resampling, to make things consistent. \n",
    "* We can manually control the resolution (referred to as scale in GEE).\n",
    "* We can force no reprojection if needed.\n",
    "* The resources may come with several bands. Check the resource metadata for details.\n",
    "* **To visualise, we need to specify the date and band to work with.**"
   ]
  },
  {
   "cell_type": "code",
   "execution_count": null,
   "metadata": {},
   "outputs": [],
   "source": [
    "# Initial date of interest (inclusive).\n",
    "i_date = \"2017-01-01\"\n",
    "\n",
    "# Final date of interest (exclusive).\n",
    "f_date = \"2020-01-01\"\n",
    "\n",
    "# Selection of appropriate bands and dates for LST.\n",
    "lst = lst.select(\"LST_Day_1km\", \"QC_Day\").filterDate(i_date, f_date)"
   ]
  },
  {
   "cell_type": "markdown",
   "metadata": {},
   "source": [
    "Next, we need to define the area of interest. The tutorial states you can upload coordinates or shapefiles and uses the coordinate context of rural and urban Lyons, France."
   ]
  },
  {
   "cell_type": "code",
   "execution_count": null,
   "metadata": {},
   "outputs": [],
   "source": [
    "# Define the urban location of interest as a point near Lyon, France.\n",
    "u_lon = 4.8148\n",
    "u_lat = 45.7758\n",
    "u_poi = ee.Geometry.Point(u_lon, u_lat)\n",
    "\n",
    "# Define the rural location of interest as a point away from the city.\n",
    "r_lon = 5.175964\n",
    "r_lat = 45.574064\n",
    "r_poi = ee.Geometry.Point(r_lon, r_lat)"
   ]
  },
  {
   "cell_type": "markdown",
   "metadata": {},
   "source": [
    "At this point, many methods are available for use. The [API developer docs](https://developers.google.com/earth-engine/api_docs) are suggested. This tutorial uses:\n",
    "\n",
    ">`sample()`: samples the image (does NOT work for an ee.ImageCollection — we'll talk about sampling an ee.ImageCollection later) according to a given geometry and a scale (in meters) of the projection to sample in. It returns an ee.FeatureCollection.  \n",
    ">`first()`: returns the first entry of the collection.  \n",
    ">`get()`: to select the appropriate band of your Image/Collection.  \n",
    ">`getInfo()`: evaluates server-side expression graph and transfers result to client.\n"
   ]
  },
  {
   "cell_type": "markdown",
   "metadata": {},
   "source": [
    "The tutorial points out that LST comes with a few important caveats:\n",
    "* Apparently the description states that a factor of 0.02 should be applied to get units in Kelvin. Though checking the linked desrciption (with a deprecation notice) I could not find this mentioned.\n",
    "* Then a simple conversion to celcius is used.\n",
    "* This is a multi-annual mean because of the date range employed. "
   ]
  },
  {
   "cell_type": "code",
   "execution_count": null,
   "metadata": {},
   "outputs": [],
   "source": [
    "scale = 1000  # scale in meters\n",
    "\n",
    "# Print the elevation near Lyon, France.\n",
    "elv_urban_point = elv.sample(u_poi, scale).first().get(\"elevation\").getInfo()\n",
    "print(\"Ground elevation at urban point:\", elv_urban_point, \"m\")\n",
    "\n",
    "# Calculate and print the mean value of the LST collection at the point.\n",
    "lst_urban_point = lst.mean().sample(u_poi, scale).first().get(\"LST_Day_1km\").getInfo()\n",
    "print(\n",
    "    \"Average daytime LST at urban point:\",\n",
    "    round(lst_urban_point * 0.02 - 273.15, 2),\n",
    "    \"°C\",\n",
    ")\n",
    "\n",
    "# Print the land cover type at the point.\n",
    "lc_urban_point = lc.first().sample(u_poi, scale).first().get(\"LC_Type1\").getInfo()\n",
    "print(\"Land cover value at urban point is:\", lc_urban_point)"
   ]
  },
  {
   "cell_type": "markdown",
   "metadata": {},
   "source": [
    "According to the catalogue metadata, 13 is:\n",
    "> Urban and Built-up Lands: at least 30% impervious surface area including building materials, asphalt and vehicles.\n",
    "\n",
    "Repeating the same for the rural coordinates:"
   ]
  },
  {
   "cell_type": "code",
   "execution_count": null,
   "metadata": {},
   "outputs": [],
   "source": [
    "# Print the elevation near Lyon, France.\n",
    "elv_rural_point = elv.sample(r_poi, scale).first().get(\"elevation\").getInfo()\n",
    "print(\"Ground elevation at rural point:\", elv_rural_point, \"m\")\n",
    "\n",
    "# Calculate and print the mean value of the LST collection at the point.\n",
    "lst_rural_point = lst.mean().sample(r_poi, scale).first().get(\"LST_Day_1km\").getInfo()\n",
    "print(\n",
    "    \"Average daytime LST at rural point:\",\n",
    "    round(lst_rural_point * 0.02 - 273.15, 2),\n",
    "    \"°C\",\n",
    ")\n",
    "\n",
    "# Print the land cover type at the point.\n",
    "lc_rural_point = lc.first().sample(r_poi, scale).first().get(\"LC_Type1\").getInfo()\n",
    "print(\"Land cover value at rural point is:\", lc_rural_point)"
   ]
  },
  {
   "cell_type": "markdown",
   "metadata": {},
   "source": [
    "land cover value 12 is:\n",
    ">Croplands: at least 60% of area is cultivated cropland.\n",
    "\n",
    "Note the elevation difference also\n",
    "\n",
    "### Time Series\n",
    "Using a `getRegion().getInfo()` combo returns a list format."
   ]
  },
  {
   "cell_type": "code",
   "execution_count": null,
   "metadata": {},
   "outputs": [],
   "source": [
    "# Get the data for the pixel intersecting the point in urban area.\n",
    "lst_u_poi = lst.getRegion(u_poi, scale).getInfo()\n",
    "\n",
    "# Get the data for the pixel intersecting the point in rural area.\n",
    "lst_r_poi = lst.getRegion(r_poi, scale).getInfo()\n",
    "\n",
    "# Preview the result.\n",
    "lst_u_poi[:5]"
   ]
  },
  {
   "cell_type": "markdown",
   "metadata": {},
   "source": [
    "Tutorial points to some None values and that by reading the meatadata, `QC_Day` value of 2 means that cloud interference meant that no calculation of land temperature has happened.\n",
    "\n",
    "Tutorial then helpfully defines a func to convert to a pd DataFrame:"
   ]
  },
  {
   "cell_type": "code",
   "execution_count": null,
   "metadata": {},
   "outputs": [],
   "source": [
    "import pandas as pd\n",
    "\n",
    "\n",
    "def ee_array_to_df(arr, list_of_bands):\n",
    "    \"\"\"Transforms client-side ee.Image.getRegion array to pandas.DataFrame.\"\"\"\n",
    "    df = pd.DataFrame(arr)\n",
    "\n",
    "    # Rearrange the header.\n",
    "    headers = df.iloc[0]\n",
    "    df = pd.DataFrame(df.values[1:], columns=headers)\n",
    "\n",
    "    # Remove rows without data inside.\n",
    "    df = df[[\"longitude\", \"latitude\", \"time\", *list_of_bands]].dropna()\n",
    "\n",
    "    # Convert the data to numeric values.\n",
    "    for band in list_of_bands:\n",
    "        df[band] = pd.to_numeric(df[band], errors=\"coerce\")\n",
    "\n",
    "    # Convert the time field into a datetime.\n",
    "    df[\"datetime\"] = pd.to_datetime(df[\"time\"], unit=\"ms\")\n",
    "\n",
    "    # Keep the columns of interest.\n",
    "    df = df[[\"time\", \"datetime\", *list_of_bands]]\n",
    "\n",
    "    return df"
   ]
  },
  {
   "cell_type": "code",
   "execution_count": null,
   "metadata": {},
   "outputs": [],
   "source": [
    "lst_df_urban = ee_array_to_df(lst_u_poi, [\"LST_Day_1km\"])\n",
    "lst_df_urban.head()"
   ]
  },
  {
   "cell_type": "code",
   "execution_count": null,
   "metadata": {},
   "outputs": [],
   "source": [
    "# Nice little temp conversion func too:\n",
    "def t_modis_to_celsius(t_modis):\n",
    "    \"\"\"Converts MODIS LST units to degrees Celsius.\"\"\"\n",
    "    t_celsius = 0.02 * t_modis - 273.15\n",
    "    return t_celsius"
   ]
  },
  {
   "cell_type": "code",
   "execution_count": null,
   "metadata": {},
   "outputs": [],
   "source": [
    "# Apply the function to get temperature in celsius.\n",
    "lst_df_urban[\"LST_Day_1km\"] = lst_df_urban[\"LST_Day_1km\"].apply(t_modis_to_celsius)\n",
    "lst_df_urban.head()"
   ]
  },
  {
   "cell_type": "code",
   "execution_count": null,
   "metadata": {},
   "outputs": [],
   "source": [
    "# Do the same for the rural point.\n",
    "lst_df_rural = ee_array_to_df(lst_r_poi, [\"LST_Day_1km\"])\n",
    "lst_df_rural[\"LST_Day_1km\"] = lst_df_rural[\"LST_Day_1km\"].apply(t_modis_to_celsius)\n",
    "\n",
    "lst_df_rural.head()"
   ]
  },
  {
   "cell_type": "markdown",
   "metadata": {},
   "source": [
    "***\n",
    "\n",
    "## Static Map"
   ]
  },
  {
   "cell_type": "code",
   "execution_count": null,
   "metadata": {},
   "outputs": [],
   "source": [
    "u_poi"
   ]
  },
  {
   "cell_type": "code",
   "execution_count": null,
   "metadata": {},
   "outputs": [],
   "source": [
    "# Define a region of interest with a buffer zone of 1000 km around Lyon.\n",
    "roi = u_poi.buffer(1e6)"
   ]
  },
  {
   "cell_type": "code",
   "execution_count": null,
   "metadata": {},
   "outputs": [],
   "source": [
    "# lst is an image collection, we need to convert to an image.\n",
    "# Reduce the LST collection by mean.\n",
    "lst_img = lst.mean()\n",
    "\n",
    "# Adjust for scale factor.\n",
    "lst_img = lst_img.select(\"LST_Day_1km\").multiply(0.02)\n",
    "\n",
    "# Convert Kelvin to Celsius.\n",
    "lst_img = lst_img.select(\"LST_Day_1km\").add(-273.15)"
   ]
  },
  {
   "cell_type": "code",
   "execution_count": null,
   "metadata": {},
   "outputs": [],
   "source": [
    "from IPython.display import Image\n",
    "\n",
    "# Create a URL to the styled image for a region around France.\n",
    "url = lst_img.getThumbUrl(\n",
    "    {\n",
    "        \"min\": 10,\n",
    "        \"max\": 30,\n",
    "        \"dimensions\": 512,\n",
    "        \"region\": roi,\n",
    "        \"palette\": [\"blue\", \"yellow\", \"orange\", \"red\"],\n",
    "    }\n",
    ")\n",
    "print(url)\n",
    "\n",
    "# Display the thumbnail land surface temperature in France.\n",
    "print(\"\\nPlease wait while the thumbnail loads, it may take a moment...\")\n",
    "Image(url=url)"
   ]
  },
  {
   "cell_type": "code",
   "execution_count": null,
   "metadata": {},
   "outputs": [],
   "source": [
    "# Display the thumbnail of styled elevation in France.\n",
    "Image(\n",
    "    url=elv.getThumbURL(\n",
    "        {\n",
    "            \"min\": 0,\n",
    "            \"max\": 2000,\n",
    "            \"dimensions\": 512,\n",
    "            \"region\": roi,\n",
    "            \"palette\": [\"006633\", \"E5FFCC\", \"662A00\", \"D8D8D8\", \"F5F5F5\"],\n",
    "        }\n",
    "    )\n",
    ")"
   ]
  },
  {
   "cell_type": "code",
   "execution_count": null,
   "metadata": {},
   "outputs": [],
   "source": [
    "# Make pixels with elevation below sea level transparent.\n",
    "elv_img = elv.updateMask(elv.gt(0))\n",
    "\n",
    "# Display the thumbnail of styled elevation in France.\n",
    "Image(\n",
    "    url=elv_img.getThumbURL(\n",
    "        {\n",
    "            \"min\": 0,\n",
    "            \"max\": 2000,\n",
    "            \"dimensions\": 512,\n",
    "            \"region\": roi,\n",
    "            \"palette\": [\"006633\", \"E5FFCC\", \"662A00\", \"D8D8D8\", \"F5F5F5\"],\n",
    "        }\n",
    "    )\n",
    ")"
   ]
  },
  {
   "cell_type": "code",
   "execution_count": null,
   "metadata": {},
   "outputs": [],
   "source": [
    "# Create a buffer zone of 10 km around Lyon.\n",
    "lyon = u_poi.buffer(10000)  # meters\n",
    "\n",
    "url = elv_img.getThumbUrl(\n",
    "    {\n",
    "        \"min\": 150,\n",
    "        \"max\": 350,\n",
    "        \"region\": lyon,\n",
    "        \"dimensions\": 512,\n",
    "        \"palette\": [\"006633\", \"E5FFCC\", \"662A00\", \"D8D8D8\", \"F5F5F5\"],\n",
    "    }\n",
    ")\n",
    "Image(url=url)"
   ]
  },
  {
   "cell_type": "markdown",
   "metadata": {},
   "source": [
    "***\n",
    "## Clip to a Shapefile"
   ]
  },
  {
   "cell_type": "code",
   "execution_count": null,
   "metadata": {},
   "outputs": [],
   "source": [
    "# Get a feature collection of administrative boundaries.\n",
    "# https://developers.google.com/earth-engine/datasets/catalog/FAO_GAUL_2015_level0\n",
    "countries = ee.FeatureCollection(\"FAO/GAUL/2015/level0\").select(\"ADM0_NAME\")\n",
    "countries"
   ]
  },
  {
   "cell_type": "code",
   "execution_count": null,
   "metadata": {},
   "outputs": [],
   "source": [
    "# Filter the feature collection to subset France.\n",
    "france = countries.filter(ee.Filter.eq(\"ADM0_NAME\", \"France\"))\n",
    "france"
   ]
  },
  {
   "cell_type": "code",
   "execution_count": null,
   "metadata": {},
   "outputs": [],
   "source": [
    "# Clip the image by France.\n",
    "elv_fr = elv_img.clip(france)\n",
    "\n",
    "# Create the URL associated with the styled image data.\n",
    "url = elv_fr.getThumbUrl(\n",
    "    {\n",
    "        \"min\": 0,\n",
    "        \"max\": 2500,\n",
    "        \"region\": roi,\n",
    "        \"dimensions\": 512,\n",
    "        \"palette\": [\"006633\", \"E5FFCC\", \"662A00\", \"D8D8D8\", \"F5F5F5\"],\n",
    "    }\n",
    ")\n",
    "\n",
    "# Display a thumbnail of elevation in France.\n",
    "Image(url=url)"
   ]
  },
  {
   "cell_type": "markdown",
   "metadata": {},
   "source": [
    "***\n",
    "\n",
    "## Export a GeoTIFF\n",
    "\n",
    "A couple of methods of export are explored in the tutorial. The first being export to Google drive using a batch method. This is said to be a better method for larger, long-running exports. Here is the method to generate a temporary url from which you can download an image. It lasts for approx 24 hrs."
   ]
  },
  {
   "cell_type": "code",
   "execution_count": null,
   "metadata": {},
   "outputs": [],
   "source": [
    "link = lst_img.getDownloadURL(\n",
    "    {\"scale\": 30, \"crs\": \"EPSG:4326\", \"fileFormat\": \"GeoTIFF\", \"region\": lyon}\n",
    ")\n",
    "print(link)"
   ]
  },
  {
   "cell_type": "markdown",
   "metadata": {},
   "source": [
    "***\n",
    "## Folium Maps"
   ]
  },
  {
   "cell_type": "code",
   "execution_count": null,
   "metadata": {},
   "outputs": [],
   "source": [
    "import folium\n",
    "\n",
    "# Define the center of our map.\n",
    "lat, lon = 45.77, 4.855\n",
    "\n",
    "my_map = folium.Map(location=[lat, lon], zoom_start=10)\n",
    "my_map"
   ]
  },
  {
   "cell_type": "code",
   "execution_count": null,
   "metadata": {},
   "outputs": [],
   "source": [
    "# Handy func for adding image object as a folium layer\n",
    "\n",
    "\n",
    "def add_ee_layer(self, ee_image_object, vis_params, name):\n",
    "    \"\"\"Adds a method for displaying Earth Engine image tiles to folium map.\"\"\"\n",
    "    map_id_dict = ee.Image(ee_image_object).getMapId(vis_params)\n",
    "    folium.raster_layers.TileLayer(\n",
    "        tiles=map_id_dict[\"tile_fetcher\"].url_format,\n",
    "        attr='Map Data &copy; <a href=\"https://earthengine.google.com/\">Google Earth Engine</a>',\n",
    "        name=name,\n",
    "        overlay=True,\n",
    "        control=True,\n",
    "    ).add_to(self)\n",
    "\n",
    "\n",
    "# Add Earth Engine drawing method to folium.\n",
    "folium.Map.add_ee_layer = add_ee_layer"
   ]
  },
  {
   "cell_type": "code",
   "execution_count": null,
   "metadata": {},
   "outputs": [],
   "source": [
    "# Select a specific band and dates for land cover.\n",
    "lc_img = lc.select(\"LC_Type1\").filterDate(i_date).first()\n",
    "\n",
    "# Set visualization parameters for land cover.\n",
    "lc_vis_params = {\n",
    "    \"min\": 1,\n",
    "    \"max\": 17,\n",
    "    \"palette\": [\n",
    "        \"05450a\",\n",
    "        \"086a10\",\n",
    "        \"54a708\",\n",
    "        \"78d203\",\n",
    "        \"009900\",\n",
    "        \"c6b044\",\n",
    "        \"dcd159\",\n",
    "        \"dade48\",\n",
    "        \"fbff13\",\n",
    "        \"b6ff05\",\n",
    "        \"27ff87\",\n",
    "        \"c24f44\",\n",
    "        \"a5a5a5\",\n",
    "        \"ff6d4c\",\n",
    "        \"69fff8\",\n",
    "        \"f9ffa4\",\n",
    "        \"1c0dff\",\n",
    "    ],\n",
    "}\n",
    "\n",
    "# Create a map.\n",
    "lat, lon = 45.77, 4.855\n",
    "my_map = folium.Map(location=[lat, lon], zoom_start=7)\n",
    "\n",
    "# Add the land cover to the map object.\n",
    "my_map.add_ee_layer(lc_img, lc_vis_params, \"Land Cover\")\n",
    "\n",
    "# Add a layer control panel to the map.\n",
    "my_map.add_child(folium.LayerControl())\n",
    "\n",
    "# Display the map.\n",
    "display(my_map)"
   ]
  },
  {
   "cell_type": "code",
   "execution_count": null,
   "metadata": {},
   "outputs": [],
   "source": [
    "# Set visualization parameters for ground elevation.\n",
    "elv_vis_params = {\n",
    "    \"min\": 0,\n",
    "    \"max\": 4000,\n",
    "    \"palette\": [\"006633\", \"E5FFCC\", \"662A00\", \"D8D8D8\", \"F5F5F5\"],\n",
    "}\n",
    "\n",
    "# Set visualization parameters for land surface temperature.\n",
    "lst_vis_params = {\n",
    "    \"min\": 0,\n",
    "    \"max\": 40,\n",
    "    \"palette\": [\"white\", \"blue\", \"green\", \"yellow\", \"orange\", \"red\"],\n",
    "}\n",
    "\n",
    "# Arrange layers inside a list (elevation, LST and land cover).\n",
    "ee_tiles = [elv_img, lst_img, lc_img]\n",
    "\n",
    "# Arrange visualization parameters inside a list.\n",
    "ee_vis_params = [elv_vis_params, lst_vis_params, lc_vis_params]\n",
    "\n",
    "# Arrange layer names inside a list.\n",
    "ee_tiles_names = [\"Elevation\", \"Land Surface Temperature\", \"Land Cover\"]\n",
    "\n",
    "# Create a new map.\n",
    "lat, lon = 45.77, 4.855\n",
    "my_map = folium.Map(location=[lat, lon], zoom_start=5)\n",
    "\n",
    "# Add layers to the map using a loop.\n",
    "for tile, vis_param, name in zip(ee_tiles, ee_vis_params, ee_tiles_names):\n",
    "    my_map.add_ee_layer(tile, vis_param, name)\n",
    "\n",
    "folium.LayerControl(collapsed=False).add_to(my_map)\n",
    "\n",
    "my_map"
   ]
  },
  {
   "cell_type": "markdown",
   "metadata": {},
   "source": [
    "Check out some of the awesome links at the bottom of the tutorial."
   ]
  },
  {
   "cell_type": "markdown",
   "metadata": {},
   "source": []
  }
 ],
 "metadata": {
  "language_info": {
   "codemirror_mode": {
    "name": "ipython",
    "version": 3
   },
   "file_extension": ".py",
   "mimetype": "text/x-python",
   "name": "python",
   "nbconvert_exporter": "python",
   "pygments_lexer": "ipython3",
   "version": "3.9.12"
  }
 },
 "nbformat": 4,
 "nbformat_minor": 2
}
