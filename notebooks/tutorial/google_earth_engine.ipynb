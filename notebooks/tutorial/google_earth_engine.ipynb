{
 "cells": [
  {
   "cell_type": "markdown",
   "metadata": {},
   "source": [
    "# Sign Up to Use Google Earth Engine (EE)\n",
    "\n",
    "## Developer API\n",
    "\n",
    "[Google Earth Engine sign up form](https://signup.earthengine.google.com/#!/)\n",
    "\n",
    "Use of the service is strictly non-commercial. Please consult the T&Cs:\n",
    "\n",
    "> 1.2 Limitations on Use. Unless otherwise approved by Google in writing, Services may only be used for development, research, or educational purposes; you can use data or figures created by use of Services in research or educational publications authored by you. Services may not be used for sustained commercial purposes unless otherwise approved by Google in writing, but may be evaluated in a production environment. Applications and data created with Services may not be sold or licensed for a fee unless otherwise approved by Google in writing.\n",
    "\n",
    "[source: Google Earth Engine Terms of Use](https://earthengine.google.com/terms/)\n",
    "\n",
    "As I'm logged into my Google profile, the form would only accept my gmail address. I selected affiliated with ONS and purpose was to 'investigate land use classification within my locality and nationally'. \n",
    "\n",
    "Notification to keep an eye on Gmail inbox over the next week for status update.\n",
    "\n",
    "I had the confirmation Email come through within the hour, but I have a vague recollection of going through Earth Engine access before.\n",
    "\n",
    "### Service Account\n",
    "\n",
    "After reading the documentation and trying a couple of approaches, the method that worked for me was to configure my application as a [service account](https://developers.google.com/earth-engine/guides/service_account), which seems to be the method used for hosting of an application that can authenticate with the Earth Engine API for multiple end users. \n",
    "\n",
    "***\n",
    "\n",
    "## Python client tutorial\n",
    "\n",
    "Ensure the most recent release of earth engine client is being run with:\n",
    "`pip install earthengine-api --upgrade`\n",
    "\n",
    "Link to the [Google Earth Engine API tutorial](https://developers.google.com/earth-engine/tutorials/community/intro-to-python-api)\n",
    "\n",
    "Improve awareness of data available by browsing the [Earth Engine data catalogue](https://developers.google.com/earth-engine/datasets/catalog)\n",
    "\n",
    "### EE-specific terms\n",
    "\n",
    "The documentation refers to:\n",
    "\n",
    "**Features**: Geometries. Like Spatial features.\n",
    "\n",
    "**Images**: Rasters, tiffs and the like.\n",
    "\n",
    "**Collections**: A resource that combines features & images.\n",
    "\n",
    "\n",
    "### Tutorial Context\n",
    "\n",
    "Resources used are:\n",
    "* MODIS land cover (LC)\n",
    "* MODIS land surface temp (LST)\n",
    "* USGS ground elevation (ELV)\n",
    "\n",
    "All three are `ee.ImageCollections`. Things we need from the dataset descriptions to work with these resources:\n",
    "1. Availability\n",
    "2. Provider\n",
    "3. EE snippet\n",
    "4. Available bands\n",
    "\n",
    "So for [LC](https://developers.google.com/earth-engine/datasets/catalog/MODIS_006_MCD12Q1):\n",
    "\n",
    "![](../../www/modis_lc_metadata.png)\n"
   ]
  },
  {
   "cell_type": "code",
   "execution_count": null,
   "metadata": {},
   "outputs": [],
   "source": [
    "import os\n",
    "\n",
    "import ee\n",
    "import toml\n",
    "from pyprojroot import here"
   ]
  },
  {
   "cell_type": "code",
   "execution_count": null,
   "metadata": {},
   "outputs": [],
   "source": [
    "service_email = toml.load(os.path.join(here(), \".git_ignore\", \"ee.toml\"))[\"ee\"][\n",
    "    \"SERVICE_EMAIL\"\n",
    "]"
   ]
  },
  {
   "cell_type": "code",
   "execution_count": null,
   "metadata": {},
   "outputs": [],
   "source": [
    "credentials = ee.ServiceAccountCredentials(\n",
    "    service_email,\n",
    "    os.path.join(here(), \".git_ignore\", \"ee-lsoa-land-use-02b30d7b328b.json\"),\n",
    ")\n",
    "ee.Initialize(credentials)"
   ]
  },
  {
   "cell_type": "code",
   "execution_count": null,
   "metadata": {},
   "outputs": [],
   "source": [
    "print(ee.Image(\"NASA/NASADEM_HGT/001\").get(\"title\").getInfo())"
   ]
  }
 ],
 "metadata": {
  "language_info": {
   "codemirror_mode": {
    "name": "ipython",
    "version": 3
   },
   "file_extension": ".py",
   "mimetype": "text/x-python",
   "name": "python",
   "nbconvert_exporter": "python",
   "pygments_lexer": "ipython3",
   "version": "3.9.12"
  }
 },
 "nbformat": 4,
 "nbformat_minor": 2
}
