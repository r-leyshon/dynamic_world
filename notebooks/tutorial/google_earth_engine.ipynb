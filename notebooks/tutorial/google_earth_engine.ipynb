{
 "cells": [
  {
   "cell_type": "markdown",
   "metadata": {},
   "source": [
    "# Sign Up to Use Google Earth Engine\n",
    "\n",
    "## Developer API\n",
    "\n",
    "[Google Earth Engine sign up form](https://signup.earthengine.google.com/#!/)\n",
    "\n",
    "Use of the service is strictly non-commercial. Please consult the T&Cs:\n",
    "\n",
    "> 1.2 Limitations on Use. Unless otherwise approved by Google in writing, Services may only be used for development, research, or educational purposes; you can use data or figures created by use of Services in research or educational publications authored by you. Services may not be used for sustained commercial purposes unless otherwise approved by Google in writing, but may be evaluated in a production environment. Applications and data created with Services may not be sold or licensed for a fee unless otherwise approved by Google in writing.\n",
    "\n",
    "[source: Google Earth Engine Terms of Use](https://earthengine.google.com/terms/)\n",
    "\n",
    "As I'm logged into my Google profile, the form would only accept my gmail address. I selected affiliated with ONS and purpose was to 'investigate land use classification within my locality and nationally'. \n",
    "\n",
    "Notification to keep an eye on Gmail inbox over the next week for status update."
   ]
  },
  {
   "cell_type": "code",
   "execution_count": null,
   "metadata": {},
   "outputs": [],
   "source": []
  }
 ],
 "metadata": {
  "language_info": {
   "codemirror_mode": {
    "name": "ipython",
    "version": 3
   },
   "file_extension": ".py",
   "mimetype": "text/x-python",
   "name": "python",
   "nbconvert_exporter": "python",
   "pygments_lexer": "ipython3",
   "version": "3.9.10"
  }
 },
 "nbformat": 4,
 "nbformat_minor": 2
}
