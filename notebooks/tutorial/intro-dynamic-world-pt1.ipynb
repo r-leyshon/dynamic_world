{
 "cells": [
  {
   "cell_type": "markdown",
   "metadata": {},
   "source": [
    "# Intro Dynamic World (Part 1)\n",
    "\n",
    "[Tutorial site](https://developers.google.com/earth-engine/tutorials/community/introduction-to-dynamic-world-pt-1)"
   ]
  },
  {
   "cell_type": "code",
   "execution_count": null,
   "metadata": {},
   "outputs": [],
   "source": [
    "import os\n",
    "\n",
    "import ee\n",
    "import folium\n",
    "import toml\n",
    "from folium import plugins\n",
    "from IPython.display import Image\n",
    "from pyprojroot import here"
   ]
  },
  {
   "cell_type": "code",
   "execution_count": null,
   "metadata": {},
   "outputs": [],
   "source": [
    "service_email = toml.load(os.path.join(here(), \".git_ignore\", \"ee.toml\"))[\"ee\"][\n",
    "    \"SERVICE_EMAIL\"\n",
    "]\n",
    "\n",
    "credentials = ee.ServiceAccountCredentials(\n",
    "    service_email,\n",
    "    os.path.join(here(), \".git_ignore\", \"ee-lsoa-land-use-02b30d7b328b.json\"),\n",
    ")\n",
    "ee.Initialize(credentials)"
   ]
  },
  {
   "cell_type": "markdown",
   "metadata": {},
   "source": [
    "We first define the variables containing the start date, end date, and coordinates of a location. Here we have defined a point centered at the Quabbin Reservoir in Massachusetts, US.\n",
    "\n",
    "**The images in this collection have names that match the individual Sentinel-2 L1C product names from which they were derived.**\n",
    "\n",
    "The first part of this tutorial is about comparing sentinel 2 imagery with dynamic world classes"
   ]
  },
  {
   "cell_type": "code",
   "execution_count": null,
   "metadata": {},
   "outputs": [],
   "source": [
    "startDate = \"2021-10-15\"\n",
    "endDate = \"2021-10-25\"\n",
    "geometry = ee.Geometry.Point(-72.28525, 42.36103)"
   ]
  },
  {
   "cell_type": "markdown",
   "metadata": {},
   "source": [
    "## Load a Sentinel-2 Image\n",
    "We can find a Sentinel-2 image by applying filters on the Sentinel-2 L1C harmonized collection for the date range and location of interest. Since the Dynamic World classification is available only for scenes with < 35% cloud cover, we also apply a metadata filter."
   ]
  },
  {
   "cell_type": "code",
   "execution_count": null,
   "metadata": {},
   "outputs": [],
   "source": [
    "s2 = (\n",
    "    ee.ImageCollection(\"COPERNICUS/S2_HARMONIZED\")\n",
    "    .filterDate(startDate, endDate)\n",
    "    .filterBounds(geometry)\n",
    "    .filter(ee.Filter.lt(\"CLOUDY_PIXEL_PERCENTAGE\", 35))\n",
    ")\n",
    "s2"
   ]
  },
  {
   "cell_type": "markdown",
   "metadata": {},
   "source": [
    "The resulting collection in the s2 variable contains all images matching the filters. We can call .first() to extract a single image (the earliest one matching our criteria) from the collection. Once we have the image, let's add it to the map to visualize it. The code also centers the viewport at the coordinates of the point location."
   ]
  },
  {
   "cell_type": "code",
   "execution_count": null,
   "metadata": {},
   "outputs": [],
   "source": [
    "s2_img = ee.Image(s2.first())\n",
    "s2_img"
   ]
  },
  {
   "cell_type": "code",
   "execution_count": null,
   "metadata": {},
   "outputs": [],
   "source": [
    "# Create a URL to the styled image\n",
    "url = s2_img.getThumbUrl(\n",
    "    {\n",
    "        \"min\": 0,\n",
    "        \"max\": 3000,\n",
    "        \"dimensions\": 512,\n",
    "        \"bands\": [\"B4\", \"B3\", \"B2\"],\n",
    "    }\n",
    ")\n",
    "\n",
    "print(url)\n",
    "\n",
    "# Display the thumbnail\n",
    "print(\"\\nPlease wait while the thumbnail loads, it may take a moment...\")\n",
    "Image(url=url)"
   ]
  },
  {
   "cell_type": "markdown",
   "metadata": {},
   "source": [
    "***\n",
    "\n",
    "## Find the Matching Dynamic World Image\n",
    "\n",
    "To find the matching classified image in the Dynamic World collection, we need to extract the product id using the system:index property"
   ]
  },
  {
   "cell_type": "code",
   "execution_count": null,
   "metadata": {},
   "outputs": [],
   "source": [
    "imageId = s2_img.get(\"system:index\")\n",
    "print(imageId)"
   ]
  },
  {
   "cell_type": "code",
   "execution_count": null,
   "metadata": {},
   "outputs": [],
   "source": [
    "dw = ee.ImageCollection(\"GOOGLE/DYNAMICWORLD/V1\").filter(\n",
    "    ee.Filter.eq(\"system:index\", imageId)\n",
    ")\n",
    "dwImage = ee.Image(dw.first())"
   ]
  },
  {
   "cell_type": "code",
   "execution_count": null,
   "metadata": {},
   "outputs": [],
   "source": [
    "# Define the center of our map.\n",
    "lat, lon = 42.36103, -72.28525\n",
    "my_map = folium.Map(location=[lat, lon], zoom_start=12)\n",
    "my_map"
   ]
  },
  {
   "cell_type": "code",
   "execution_count": null,
   "metadata": {},
   "outputs": [],
   "source": [
    "# Handy func for adding image object as a folium layer\n",
    "\n",
    "\n",
    "def add_ee_layer(self, ee_image_object, vis_params, name):\n",
    "    \"\"\"Adds a method for displaying Earth Engine image tiles to folium map.\"\"\"\n",
    "    map_id_dict = ee.Image(ee_image_object).getMapId(vis_params)\n",
    "    folium.raster_layers.TileLayer(\n",
    "        tiles=map_id_dict[\"tile_fetcher\"].url_format,\n",
    "        attr='Map Data &copy; <a href=\"https://earthengine.google.com/\">Google Earth Engine</a>',\n",
    "        name=name,\n",
    "        overlay=True,\n",
    "        control=True,\n",
    "    ).add_to(self)\n",
    "\n",
    "\n",
    "# Add Earth Engine drawing method to folium.\n",
    "folium.Map.add_ee_layer = add_ee_layer"
   ]
  },
  {
   "cell_type": "code",
   "execution_count": null,
   "metadata": {},
   "outputs": [],
   "source": [
    "classification = dwImage.select(\"label\")\n",
    "dwVisParams = {\n",
    "    \"min\": 0,\n",
    "    \"max\": 8,\n",
    "    \"palette\": [\n",
    "        \"#419BDF\",\n",
    "        \"#397D49\",\n",
    "        \"#88B053\",\n",
    "        \"#7A87C6\",\n",
    "        \"#E49635\",\n",
    "        \"#DFC35A\",\n",
    "        \"#C4281B\",\n",
    "        \"#A59B8F\",\n",
    "        \"#B39FE1\",\n",
    "    ],\n",
    "}"
   ]
  },
  {
   "cell_type": "code",
   "execution_count": null,
   "metadata": {},
   "outputs": [],
   "source": [
    "# Set visualization parameters.\n",
    "# Create a map.\n",
    "lat, lon = 42.36103, -72.28525\n",
    "my_map = folium.Map(location=[lat, lon], zoom_start=8)\n",
    "# Add the land cover to the map object.\n",
    "my_map.add_ee_layer(classification, vis_params=dwVisParams, name=\"DW Classification\")\n",
    "# Add a layer control panel to the map.\n",
    "my_map.add_child(folium.LayerControl())\n",
    "# Display the map.\n",
    "display(my_map)"
   ]
  },
  {
   "cell_type": "code",
   "execution_count": null,
   "metadata": {},
   "outputs": [],
   "source": [
    "m = plugins.DualMap(location=(42.36103, -72.28525), tiles=None, zoom_start=8)\n",
    "folium.TileLayer(\"cartodbpositron\").add_to(m.m2)\n",
    "folium.TileLayer(\"openstreetmap\").add_to(m.m1)\n",
    "\n",
    "fg_both = folium.FeatureGroup(name=\"markers_both\")\n",
    "icon_red = folium.Icon(color=\"red\")\n",
    "folium.Marker((42.36103, -72.28525), tooltip=\"both\", icon=icon_red).add_to(fg_both)\n",
    "fg_both.add_to(m)\n",
    "\n",
    "\n",
    "m.m1.add_ee_layer(classification, vis_params=dwVisParams, name=\"DW Classification\")\n",
    "\n",
    "m.m2.add_ee_layer(\n",
    "    s2_img,\n",
    "    vis_params={\"min\": 0, \"max\": 3000, \"bands\": [\"B4\", \"B3\", \"B2\"]},\n",
    "    name=\"LandSat Image\",\n",
    ")\n",
    "\n",
    "m"
   ]
  },
  {
   "cell_type": "code",
   "execution_count": null,
   "metadata": {},
   "outputs": [],
   "source": []
  }
 ],
 "metadata": {
  "language_info": {
   "codemirror_mode": {
    "name": "ipython",
    "version": 3
   },
   "file_extension": ".py",
   "mimetype": "text/x-python",
   "name": "python",
   "nbconvert_exporter": "python",
   "pygments_lexer": "ipython3",
   "version": "3.9.12"
  }
 },
 "nbformat": 4,
 "nbformat_minor": 2
}
