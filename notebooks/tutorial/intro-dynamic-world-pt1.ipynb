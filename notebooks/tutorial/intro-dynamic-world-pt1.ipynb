{
 "cells": [
  {
   "cell_type": "markdown",
   "metadata": {},
   "source": [
    "# Intro Dynamic World (Part 1)\n",
    "\n",
    "[Tutorial site](https://developers.google.com/earth-engine/tutorials/community/introduction-to-dynamic-world-pt-1)"
   ]
  },
  {
   "cell_type": "code",
   "execution_count": null,
   "metadata": {},
   "outputs": [],
   "source": [
    "import os\n",
    "\n",
    "import ee\n",
    "import toml\n",
    "from pyprojroot import here"
   ]
  },
  {
   "cell_type": "code",
   "execution_count": null,
   "metadata": {},
   "outputs": [],
   "source": [
    "service_email = toml.load(os.path.join(here(), \".git_ignore\", \"ee.toml\"))[\"ee\"][\n",
    "    \"SERVICE_EMAIL\"\n",
    "]\n",
    "\n",
    "credentials = ee.ServiceAccountCredentials(\n",
    "    service_email,\n",
    "    os.path.join(here(), \".git_ignore\", \"ee-lsoa-land-use-02b30d7b328b.json\"),\n",
    ")\n",
    "ee.Initialize(credentials)"
   ]
  },
  {
   "cell_type": "markdown",
   "metadata": {},
   "source": [
    "We first define the variables containing the start date, end date, and coordinates of a location. Here we have defined a point centered at the Quabbin Reservoir in Massachusetts, US.\n",
    "\n",
    "**The images in this collection have names that match the individual Sentinel-2 L1C product names from which they were derived.**\n",
    "\n",
    "The first part of this tutorial is about comparing sentinel 2 imagery with dynamic world classes"
   ]
  },
  {
   "cell_type": "code",
   "execution_count": null,
   "metadata": {},
   "outputs": [],
   "source": [
    "startDate = \"2021-10-15\"\n",
    "endDate = \"2021-10-25\"\n",
    "geometry = ee.Geometry.Point(-72.28525, 42.36103)"
   ]
  },
  {
   "cell_type": "markdown",
   "metadata": {},
   "source": [
    "## Load a Sentinel-2 Image\n",
    "We can find a Sentinel-2 image by applying filters on the Sentinel-2 L1C harmonized collection for the date range and location of interest. Since the Dynamic World classification is available only for scenes with < 35% cloud cover, we also apply a metadata filter."
   ]
  },
  {
   "cell_type": "code",
   "execution_count": null,
   "metadata": {},
   "outputs": [],
   "source": [
    "s2 = (\n",
    "    ee.ImageCollection(\"COPERNICUS/S2_HARMONIZED\")\n",
    "    .filterDate(startDate, endDate)\n",
    "    .filterBounds(geometry)\n",
    "    .filter(ee.Filter.lt(\"CLOUDY_PIXEL_PERCENTAGE\", 35))\n",
    ")\n",
    "s2"
   ]
  },
  {
   "cell_type": "markdown",
   "metadata": {},
   "source": [
    "The resulting collection in the s2 variable contains all images matching the filters. We can call .first() to extract a single image (the earliest one matching our criteria) from the collection. Once we have the image, let's add it to the map to visualize it. The code also centers the viewport at the coordinates of the point location."
   ]
  },
  {
   "cell_type": "code",
   "execution_count": null,
   "metadata": {},
   "outputs": [],
   "source": [
    "s2_img = ee.Image(s2.first())\n",
    "s2_img"
   ]
  },
  {
   "cell_type": "code",
   "execution_count": null,
   "metadata": {},
   "outputs": [],
   "source": [
    "from IPython.display import Image\n",
    "\n",
    "# Create a URL to the styled image\n",
    "url = s2_img.getThumbUrl(\n",
    "    {\n",
    "        \"min\": 0,\n",
    "        \"max\": 3000,\n",
    "        \"dimensions\": 512,\n",
    "        # \"region\": roi,\n",
    "        # \"palette\": [\"blue\", \"yellow\", \"orange\", \"red\"],\n",
    "        \"bands\": [\"B4\", \"B3\", \"B2\"],\n",
    "    }\n",
    ")\n",
    "\n",
    "print(url)\n",
    "\n",
    "# Display the thumbnail land surface temperature in France.\n",
    "print(\"\\nPlease wait while the thumbnail loads, it may take a moment...\")\n",
    "Image(url=url)"
   ]
  }
 ],
 "metadata": {
  "language_info": {
   "codemirror_mode": {
    "name": "ipython",
    "version": 3
   },
   "file_extension": ".py",
   "mimetype": "text/x-python",
   "name": "python",
   "nbconvert_exporter": "python",
   "pygments_lexer": "ipython3",
   "version": "3.9.12"
  }
 },
 "nbformat": 4,
 "nbformat_minor": 2
}
