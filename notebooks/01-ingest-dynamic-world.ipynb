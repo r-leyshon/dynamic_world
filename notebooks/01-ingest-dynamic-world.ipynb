{
 "cells": [
  {
   "cell_type": "markdown",
   "metadata": {},
   "source": [
    "# Ingest Dynamic World\n",
    "\n",
    "[Dynamic World Dataset Page](https://developers.google.com/earth-engine/datasets/catalog/GOOGLE_DYNAMICWORLD_V1)\n",
    "\n",
    "## Dependencies"
   ]
  },
  {
   "cell_type": "code",
   "execution_count": null,
   "metadata": {},
   "outputs": [],
   "source": [
    "import os\n",
    "\n",
    "import ee\n",
    "import toml\n",
    "from IPython.display import Image\n",
    "from pyprojroot import here"
   ]
  },
  {
   "cell_type": "code",
   "execution_count": null,
   "metadata": {},
   "outputs": [],
   "source": [
    "service_email = toml.load(os.path.join(here(), \".git_ignore\", \"ee.toml\"))[\"ee\"][\n",
    "    \"SERVICE_EMAIL\"\n",
    "]\n",
    "\n",
    "credentials = ee.ServiceAccountCredentials(\n",
    "    service_email,\n",
    "    os.path.join(here(), \".git_ignore\", \"ee-lsoa-land-use-02b30d7b328b.json\"),\n",
    ")\n",
    "ee.Initialize(credentials)"
   ]
  },
  {
   "cell_type": "code",
   "execution_count": null,
   "metadata": {},
   "outputs": [],
   "source": [
    "t_series = {\"start\": \"2015-06-23T00:00:00\", \"end\": \"2022-07-25T13:58:04\"}"
   ]
  },
  {
   "cell_type": "code",
   "execution_count": null,
   "metadata": {},
   "outputs": [],
   "source": [
    "# import image collection using endpoint\n",
    "dw = ee.ImageCollection(\"GOOGLE/DYNAMICWORLD/V1\")"
   ]
  },
  {
   "cell_type": "code",
   "execution_count": null,
   "metadata": {},
   "outputs": [],
   "source": [
    "# Define the urban location of interest as a point near Lyon, France.\n",
    "aoi_lon = -3.6255517\n",
    "aoi_lat = 52.6781592\n",
    "aoi_geom = ee.Geometry.Point(aoi_lon, aoi_lat)"
   ]
  },
  {
   "cell_type": "code",
   "execution_count": null,
   "metadata": {},
   "outputs": [],
   "source": [
    "# Define a region of interest with a buffer zone in km\n",
    "roi = aoi_geom.buffer(30000)\n",
    "roi"
   ]
  },
  {
   "cell_type": "code",
   "execution_count": null,
   "metadata": {},
   "outputs": [],
   "source": [
    "s2 = (\n",
    "    ee.ImageCollection(\"COPERNICUS/S2_HARMONIZED\")\n",
    "    .filterDate(t_series[\"start\"], t_series[\"end\"])\n",
    "    .filterBounds(roi)\n",
    "    .filter(ee.Filter.lt(\"CLOUDY_PIXEL_PERCENTAGE\", 5))\n",
    ")\n",
    "s2"
   ]
  },
  {
   "cell_type": "code",
   "execution_count": null,
   "metadata": {},
   "outputs": [],
   "source": [
    "s2Img = s2.first()\n",
    "s2Img"
   ]
  },
  {
   "cell_type": "code",
   "execution_count": null,
   "metadata": {},
   "outputs": [],
   "source": [
    "# Create a URL to the styled image\n",
    "url = s2Img.getThumbUrl(\n",
    "    {\n",
    "        \"min\": 0,\n",
    "        \"max\": 2000,\n",
    "        \"dimensions\": 800,\n",
    "        \"bands\": [\"B4\", \"B3\", \"B2\"],\n",
    "    }\n",
    ")\n",
    "\n",
    "print(url)\n",
    "\n",
    "# Display the thumbnail\n",
    "print(\"\\nPlease wait while the thumbnail loads, it may take a moment...\")\n",
    "Image(url=url)"
   ]
  },
  {
   "cell_type": "code",
   "execution_count": null,
   "metadata": {},
   "outputs": [],
   "source": []
  }
 ],
 "metadata": {
  "language_info": {
   "codemirror_mode": {
    "name": "ipython",
    "version": 3
   },
   "file_extension": ".py",
   "mimetype": "text/x-python",
   "name": "python",
   "nbconvert_exporter": "python",
   "pygments_lexer": "ipython3",
   "version": "3.9.12"
  }
 },
 "nbformat": 4,
 "nbformat_minor": 2
}
