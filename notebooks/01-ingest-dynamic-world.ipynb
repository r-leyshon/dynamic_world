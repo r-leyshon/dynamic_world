{
 "cells": [
  {
   "cell_type": "markdown",
   "metadata": {},
   "source": [
    "# Ingest Dynamic World\n",
    "\n",
    "[Dynamic World Dataset Page](https://developers.google.com/earth-engine/datasets/catalog/GOOGLE_DYNAMICWORLD_V1)\n",
    "\n",
    "## Dependencies"
   ]
  },
  {
   "cell_type": "code",
   "execution_count": null,
   "metadata": {},
   "outputs": [],
   "source": [
    "import os\n",
    "\n",
    "import ee\n",
    "import toml\n",
    "from pyprojroot import here"
   ]
  },
  {
   "cell_type": "code",
   "execution_count": null,
   "metadata": {},
   "outputs": [],
   "source": [
    "service_email = toml.load(os.path.join(here(), \".git_ignore\", \"ee.toml\"))[\"ee\"][\n",
    "    \"SERVICE_EMAIL\"\n",
    "]\n",
    "\n",
    "credentials = ee.ServiceAccountCredentials(\n",
    "    service_email,\n",
    "    os.path.join(here(), \".git_ignore\", \"ee-lsoa-land-use-02b30d7b328b.json\"),\n",
    ")\n",
    "ee.Initialize(credentials)"
   ]
  },
  {
   "cell_type": "code",
   "execution_count": null,
   "metadata": {},
   "outputs": [],
   "source": [
    "t_series = {\"start\": \"2015-06-23T00:00:00\", \"end\": \"2022-07-25T13:58:04\"}"
   ]
  },
  {
   "cell_type": "code",
   "execution_count": null,
   "metadata": {},
   "outputs": [],
   "source": [
    "# import image collection using endpoint\n",
    "dw = ee.ImageCollection(\"GOOGLE/DYNAMICWORLD/V1\")"
   ]
  },
  {
   "cell_type": "code",
   "execution_count": null,
   "metadata": {},
   "outputs": [],
   "source": [
    "# Define the urban location of interest as a point near Lyon, France.\n",
    "aoi_lon = -3.0523\n",
    "aoi_lat = 51.5859\n",
    "aoi_geom = ee.Geometry.Point(aoi_lon, aoi_lat)\n",
    "aoi_geom"
   ]
  },
  {
   "cell_type": "code",
   "execution_count": null,
   "metadata": {},
   "outputs": [],
   "source": [
    "# Define a region of interest with a buffer zone of 1000 km.\n",
    "roi = aoi_geom.buffer(1e3)\n",
    "roi"
   ]
  },
  {
   "cell_type": "code",
   "execution_count": null,
   "metadata": {},
   "outputs": [],
   "source": [
    "# lst is an image collection, we need to convert to an image.\n",
    "# Reduce the LST collection by mean.\n",
    "dw_img = dw.mean()\n",
    "\n",
    "# Adjust for scale factor.\n",
    "dw_img = dw_img.select(\"water\")"
   ]
  },
  {
   "cell_type": "code",
   "execution_count": null,
   "metadata": {},
   "outputs": [],
   "source": [
    "from IPython.display import Image\n",
    "\n",
    "# Create a URL to the styled image for a region around France.\n",
    "url = dw_img.getThumbUrl(\n",
    "    {\n",
    "        \"min\": 0,\n",
    "        \"max\": 1,\n",
    "        \"dimensions\": 512,\n",
    "        \"region\": roi,\n",
    "        \"palette\": [\"blue\", \"black\", \"red\", \"purple\"],\n",
    "    }\n",
    ")\n",
    "print(url)\n",
    "\n",
    "# Display the thumbnail\n",
    "print(\"\\nPlease wait while the thumbnail loads, it may take a moment...\")\n",
    "Image(url=url)"
   ]
  },
  {
   "cell_type": "code",
   "execution_count": null,
   "metadata": {},
   "outputs": [],
   "source": []
  }
 ],
 "metadata": {
  "language_info": {
   "codemirror_mode": {
    "name": "ipython",
    "version": 3
   },
   "file_extension": ".py",
   "mimetype": "text/x-python",
   "name": "python",
   "nbconvert_exporter": "python",
   "pygments_lexer": "ipython3",
   "version": "3.9.12"
  }
 },
 "nbformat": 4,
 "nbformat_minor": 2
}
